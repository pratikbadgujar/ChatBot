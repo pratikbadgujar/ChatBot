{
 "cells": [
  {
   "cell_type": "markdown",
   "id": "b0f2c031",
   "metadata": {},
   "source": [
    "# ChatBot"
   ]
  },
  {
   "cell_type": "markdown",
   "id": "24bdbb59",
   "metadata": {},
   "source": [
    "### step 1:-  Response of ChatBot"
   ]
  },
  {
   "cell_type": "markdown",
   "id": "f9bdb172",
   "metadata": {},
   "source": [
    "To begin with, we are assigning questions and answers ChatBot must ask us, for example, we have assigned three variables with different answers, most important point to note it can be used in code and can be also updated automatically by just changing in values of variables. The format is used to pass the values easily."
   ]
  },
  {
   "cell_type": "code",
   "execution_count": 36,
   "id": "d15df796",
   "metadata": {},
   "outputs": [],
   "source": [
    "import random\n",
    "\n",
    "name = \"Jarvis\" \n",
    "monsoon = \"rainy\" \n",
    "mood = \"Smiley\"\n",
    "\n",
    "resp = { \n",
    "\"what's your name?\": [ \n",
    "\"They call me {0}\".format(name), \n",
    "\"My name is the {0}\".format(name),\n",
    "\"Apun ka naam {0}\".format(name)],\n",
    "    \n",
    "\"what's today's weather?\": [ \n",
    "\"The weather is {0}\".format(monsoon), \n",
    "\"It's {0} today\".format(monsoon)], \n",
    "    \n",
    "\"how are you?\": [ \n",
    "\"I am feeling {0}\".format(mood), \n",
    "\"{0}! How about you?\".format(mood), \n",
    "\"I am {0}! How about yourself?\".format(mood), ],\n",
    "\n",
    "\"stop\": [\"Thank you for chatting with me!\"],\n",
    "    \n",
    "\"\": [ \n",
    "\"Hey! Are you there?\", \n",
    "\"What do you mean by these?\",\n",
    " ],\n",
    "   \n",
    "\"default\": [\n",
    "\"This is a default message\"] }"
   ]
  },
  {
   "cell_type": "markdown",
   "id": "86b6da43",
   "metadata": {},
   "source": [
    "### step 2 :- Creating a Function Response"
   ]
  },
  {
   "cell_type": "markdown",
   "id": "6dfdf22d",
   "metadata": {},
   "source": [
    "Library **random** imported to choose the response. It will select the answer by bot randomly instead of the same act."
   ]
  },
  {
   "cell_type": "code",
   "execution_count": 32,
   "id": "547e68fb",
   "metadata": {},
   "outputs": [],
   "source": [
    "import random\n",
    "def res(message):\n",
    "    if message in resp: \n",
    "        jarvis = random.choice(resp[message])\n",
    "    else: \n",
    "        jarvis = random.choice(resp[\"default\"])\n",
    "    return jarvis"
   ]
  },
  {
   "cell_type": "markdown",
   "id": "3ae34427",
   "metadata": {},
   "source": [
    "### step 3 :- Another function"
   ]
  },
  {
   "cell_type": "markdown",
   "id": "4d29a6fa",
   "metadata": {},
   "source": [
    "Sometimes the questions added are not related to available questions, and sometimes some letters are forgotten to write in the chat. At that time, the bot will not answer any questions, but another function is forward."
   ]
  },
  {
   "cell_type": "code",
   "execution_count": 43,
   "id": "bfb060ff",
   "metadata": {},
   "outputs": [],
   "source": [
    "def real(xtext): \n",
    "    if \"name\" in xtext: \n",
    "        ytext = \"what's your name?\"\n",
    "    elif \"monsoon\" in xtext: \n",
    "        ytext = \"what's today's weather?\"\n",
    "    elif \"how are\" in xtext: \n",
    "        ytext = \"how are you?\"\n",
    "    elif \"stop\" in xtext:\n",
    "        ytext = \"stop\"\n",
    "    else: \n",
    "        ytext = \"\"\n",
    "    return ytext"
   ]
  },
  {
   "cell_type": "markdown",
   "id": "fc7d5211",
   "metadata": {},
   "source": [
    "### step 4 :- Sending back the message function"
   ]
  },
  {
   "cell_type": "code",
   "execution_count": 44,
   "id": "eb7e2e94",
   "metadata": {},
   "outputs": [],
   "source": [
    "def send_message(message): \n",
    "    print((message)) \n",
    "    response = res(message) \n",
    "    print((response))"
   ]
  },
  {
   "cell_type": "markdown",
   "id": "cad3e90d",
   "metadata": {},
   "source": [
    "### step 5 :- Final Step to break the loop"
   ]
  },
  {
   "cell_type": "code",
   "execution_count": 46,
   "id": "758486c7",
   "metadata": {},
   "outputs": [
    {
     "name": "stdout",
     "output_type": "stream",
     "text": [
      "name\n",
      "what's your name?\n",
      "They call me Jarvis\n",
      "monsoon\n",
      "what's today's weather?\n",
      "It's rainy today\n",
      "how are\n",
      "how are you?\n",
      "I am Smiley! How about yourself?\n",
      "stop\n",
      "stop\n",
      "Thank you for chatting with me!\n"
     ]
    }
   ],
   "source": [
    "while 1: \n",
    "    my_input = input() \n",
    "    my_input = my_input.lower() \n",
    "    related_text = real(my_input) \n",
    "    send_message(related_text)\n",
    "    if my_input == \"exit\" or my_input == \"stop\": \n",
    "        break"
   ]
  },
  {
   "cell_type": "markdown",
   "id": "1dfe997c",
   "metadata": {},
   "source": [
    "### --- End Of Notebook ---"
   ]
  }
 ],
 "metadata": {
  "kernelspec": {
   "display_name": "Python 3",
   "language": "python",
   "name": "python3"
  },
  "language_info": {
   "codemirror_mode": {
    "name": "ipython",
    "version": 3
   },
   "file_extension": ".py",
   "mimetype": "text/x-python",
   "name": "python",
   "nbconvert_exporter": "python",
   "pygments_lexer": "ipython3",
   "version": "3.8.8"
  }
 },
 "nbformat": 4,
 "nbformat_minor": 5
}
